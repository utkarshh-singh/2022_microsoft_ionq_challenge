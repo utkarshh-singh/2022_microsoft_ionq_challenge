{
 "cells": [
  {
   "cell_type": "markdown",
   "metadata": {
    "id": "2wdOjZ9R0kCy"
   },
   "source": [
    "# For Microsoft-IonQ Backends:"
   ]
  },
  {
   "cell_type": "code",
   "execution_count": null,
   "metadata": {
    "id": "Xb4UdcJn0XKj"
   },
   "outputs": [],
   "source": [
    "from azure.quantum import Workspace\n",
    "workspace = Workspace (\n",
    "    subscription_id = \"b1d7f7f8-743f-458e-b3a0-3e09734d716d\",\n",
    "    resource_group = \"aq-hackathons\",\n",
    "    name = \"aq-hackathon-01\",\n",
    "    location = \"eastus\"\n",
    ")\n"
   ]
  },
  {
   "cell_type": "code",
   "execution_count": null,
   "metadata": {
    "id": "Ghr3w7KP1lJa"
   },
   "outputs": [],
   "source": [
    "from azure.quantum.qiskit import AzureQuantumProvider\n",
    "provider = AzureQuantumProvider (\n",
    "    resource_id = \"/subscriptions/b1d7f7f8-743f-458e-b3a0-3e09734d716d/resourceGroups/aq-hackathons/providers/Microsoft.Quantum/Workspaces/aq-hackathon-01\",\n",
    "    location = \"eastus\"\n",
    ")"
   ]
  },
  {
   "cell_type": "code",
   "execution_count": null,
   "metadata": {
    "id": "kxqFg_P81lL3"
   },
   "outputs": [],
   "source": [
    "print([backend.name() for backend in provider.backends()])"
   ]
  },
  {
   "cell_type": "code",
   "execution_count": null,
   "metadata": {
    "id": "LFemBYHk1rSO"
   },
   "outputs": [],
   "source": [
    "backend = provider.get_backend(\"ionq.qpu\")\n",
    "sim = Aer.get_backend('aer_simulator')"
   ]
  },
  {
   "cell_type": "code",
   "execution_count": null,
   "metadata": {
    "id": "3bhPa7_n1rV1"
   },
   "outputs": [],
   "source": []
  },
  {
   "cell_type": "markdown",
   "metadata": {
    "id": "ZcPNMLUl0lrY"
   },
   "source": [
    "# For IBMQ Backends:"
   ]
  },
  {
   "cell_type": "code",
   "execution_count": null,
   "metadata": {
    "id": "ZgG1XnQU0ieD"
   },
   "outputs": [],
   "source": []
  },
  {
   "cell_type": "code",
   "execution_count": 2,
   "metadata": {
    "id": "oWCwyE-s0igs"
   },
   "outputs": [],
   "source": [
    "#backend = provider.get_backend(\"ibmq_manila\")\n",
    "backend = BasicAer.get_backend(\"qasm_simulator\")\n",
    "sim = Aer.get_backend('aer_simulator')"
   ]
  },
  {
   "cell_type": "markdown",
   "metadata": {
    "id": "wyffALk616VZ"
   },
   "source": [
    "## Import Qiskit libraries:"
   ]
  },
  {
   "cell_type": "code",
   "execution_count": 2,
   "metadata": {
    "id": "e3pqFo_G0ijv"
   },
   "outputs": [],
   "source": [
    "from qiskit import QuantumCircuit, BasicAer, Aer, execute\n",
    "from qiskit.visualization import plot_histogram\n",
    "from qiskit.tools.monitor import job_monitor\n",
    "from qiskit.utils import algorithm_globals\n",
    "from qiskit.utils import QuantumInstance\n",
    "\n",
    "from qiskit.visualization.utils import (_bloch_multivector_data,_paulivec_data,matplotlib_close_if_inline,)\n",
    "from qiskit.visualization import plot_bloch_multivector, plot_state_qsphere, plot_state_city, plot_bloch_vector\n",
    "from qiskit.compiler import assemble\n",
    "from qiskit.circuit.library.standard_gates import (IGate, U1Gate,XGate,YGate,ZGate,HGate,SGate,SdgGate,TGate,TdgGate,RXGate,RYGate,RZGate)\n",
    "\n",
    "from matplotlib import pyplot as plt\n",
    "\n",
    "import numpy as np\n",
    "import time\n",
    "import random\n",
    "import sys\n"
   ]
  },
  {
   "cell_type": "code",
   "execution_count": 3,
   "metadata": {
    "id": "5HACePSE2RYS"
   },
   "outputs": [
    {
     "name": "stderr",
     "output_type": "stream",
     "text": [
      "/opt/conda/lib/python3.8/site-packages/numpy/core/getlimits.py:499: UserWarning: The value of the smallest subnormal for <class 'numpy.float64'> type is zero.\n",
      "  setattr(self, word, getattr(machar, word).flat[0])\n",
      "/opt/conda/lib/python3.8/site-packages/numpy/core/getlimits.py:89: UserWarning: The value of the smallest subnormal for <class 'numpy.float64'> type is zero.\n",
      "  return self._float_to_str(self.smallest_subnormal)\n",
      "/opt/conda/lib/python3.8/site-packages/numpy/core/getlimits.py:499: UserWarning: The value of the smallest subnormal for <class 'numpy.float32'> type is zero.\n",
      "  setattr(self, word, getattr(machar, word).flat[0])\n",
      "/opt/conda/lib/python3.8/site-packages/numpy/core/getlimits.py:89: UserWarning: The value of the smallest subnormal for <class 'numpy.float32'> type is zero.\n",
      "  return self._float_to_str(self.smallest_subnormal)\n",
      "<frozen importlib._bootstrap>:219: RuntimeWarning: scipy._lib.messagestream.MessageStream size changed, may indicate binary incompatibility. Expected 56 from C header, got 64 from PyObject\n"
     ]
    }
   ],
   "source": [
    "import time\n",
    "import random\n",
    "import sys\n",
    "from qiskit import QuantumCircuit, BasicAer, Aer, execute\n",
    "from qiskit.visualization import plot_histogram\n",
    "from qiskit.tools.monitor import job_monitor\n",
    "#from azure.quantum.qiskit import AzureQuantumProvider\n",
    "from qiskit.utils import algorithm_globals\n",
    "from qiskit.utils import QuantumInstance\n",
    "from qiskit.visualization import plot_bloch_multivector\n",
    "\n",
    "\n",
    "#backend = provider.get_backend(\"ionq.simulator\")\n",
    "backend = BasicAer.get_backend('qasm_simulator')\n",
    "sim = Aer.get_backend('aer_simulator')\n",
    "\n",
    "# just of effects. add a delay of 1 second before performing any action\n",
    "SLEEP_BETWEEN_ACTIONS = 0.1\n",
    "MAX_VAL = 23\n",
    "DICE_FACE = 4\n",
    "\n",
    "player_turn_text = [\n",
    "    \"Your turn.\",\n",
    "    \"Go.\",\n",
    "    \"Please proceed.\",\n",
    "    \"Lets win this.\",\n",
    "    \"Are you ready?\",\n",
    "    \"In a state of Quantum Superposition?\",\n",
    "    \"Two Hadamards decide your fate...\"\n",
    "]\n",
    "snake_bite = [\n",
    "    \"boohoo\",\n",
    "    \"bummer\",\n",
    "    \"snake bite\",\n",
    "    \"oh no\",\n",
    "    \"dang\"\n",
    "]\n",
    "\n",
    "ladder_jump = [\n",
    "    \"woohoo\",\n",
    "    \"woww\",\n",
    "    \"nailed it\",\n",
    "    \"oh my God...\",\n",
    "    \"yaayyy\"\n",
    "]\n",
    "\n",
    "def welcome_msg():\n",
    "    msg = \"\"\"\n",
    "    Welcome to the Quantum Maze\n",
    "    Version: 1.0.0\n",
    "    Developed by: The Seekers\n",
    "    \n",
    "    Rules:\n",
    "      1. Initally both the players are at starting position i.e. 0. \n",
    "         Take it in turns to roll the dice. \n",
    "         Move forward the number of spaces shown on the maze.\n",
    "      2. The first player to solve the quantum maze is the winner.\n",
    "      3. Hit enter to roll the dice.\n",
    "    \n",
    "    \"\"\"\n",
    "    print(msg)\n",
    "\n",
    "\n",
    "def get_player_names():\n",
    "    player1_name = None\n",
    "    while not player1_name:\n",
    "        player1_name = input(\"Please enter a valid name for first player: \").strip()\n",
    "\n",
    "    player2_name = None\n",
    "    while not player2_name:\n",
    "        player2_name = input(\"Please enter a valid name for second player: \").strip()\n",
    "\n",
    "    print(\"\\nMatch will be played between '\" + player1_name + \"' and '\" + player2_name + \"'\\n\")\n",
    "    return player1_name, player2_name\n",
    "\n",
    "\n",
    "def get_dice_value():\n",
    "    time.sleep(SLEEP_BETWEEN_ACTIONS)\n",
    "    #function to roll the dice\n",
    "    qc = QuantumCircuit(2, 2)\n",
    "    qc.name = \"dice roll\"\n",
    "    qc.h(0)\n",
    "    qc.h(1)\n",
    "    qc.measure([0,1], [0,1])\n",
    "    job = execute(qc, backend = backend, shots = 1).result().get_counts()\n",
    "    res = list(job.keys())[0]\n",
    "    val = int(res, 2)\n",
    "    final_val = val if val == 1 or val == 2 or val == 3 else 4\n",
    "    return final_val\n",
    "\n",
    "\n",
    "def last_puzzle():\n",
    "  gate_list = ['I', 'X', 'Y', 'Z', 'H', 'S', 'T', 'Sdg', 'Tdg', 'RX', 'RY', 'RZ', 'U']\n",
    "  print(\"Gates =\", gate_list)\n",
    "  gate = input(\"Please choose a gate from the gate list:\")\n",
    "  return gate  \n",
    "\n",
    "def quantum_maze(player_name, current_value, dice_value):\n",
    "    time.sleep(SLEEP_BETWEEN_ACTIONS)\n",
    "    old_value = current_value\n",
    "\n",
    "    #print(\"Current Value = \"+str(current_value))\n",
    "    #print(\"Dice Value = \"+str(dice_value))\n",
    "    if current_value == MAX_VAL or (current_value == 19 and dice_value == 4):\n",
    "      if current_value == 19 and dice_value == 4:\n",
    "        current_value += 4\n",
    "      if dice_value == 4:\n",
    "        print(\"Solve this Quantum Puzzle...\")\n",
    "        ##bloch_sphere function?\n",
    "      else:\n",
    "        print(\"Pass the dice to next player.\", \"You are in the box:\", current_value )\n",
    "        return current_value\n",
    "\n",
    "    elif current_value == 0 and dice_value == 4:\n",
    "      current_value = 4\n",
    "      #print(\"Current Value = \"+str(current_value))\n",
    "      print(\"You got 1 more chance! Roll the dice.\")\n",
    "      next_rolled_val = get_dice_value()\n",
    "      if current_value+next_rolled_val < MAX_VAL:\n",
    "        current_value += next_rolled_val\n",
    "        print(\"You got {}!.\".format(next_rolled_val), \"You are in the box:\", current_value )\n",
    "    \n",
    "    elif current_value == 0 and dice_value != 4:\n",
    "      if current_value+dice_value <= MAX_VAL:\n",
    "        current_value = current_value + dice_value\n",
    "        print(\"You got {}, pass the dice to next player.\".format(dice_value), \"You are in the box:\", current_value )\n",
    "\n",
    "    elif current_value > 0 and dice_value == 4:\n",
    "      if current_value+4 <= MAX_VAL:\n",
    "        current_value += 4\n",
    "        print(\"You got 1 more chance! Roll the dice.\")\n",
    "        next_rolled_val = get_dice_value()\n",
    "        if current_value+next_rolled_val < MAX_VAL:\n",
    "          current_value += next_rolled_val\n",
    "          print(\"You got {}! Roll the dice.\".format(next_rolled_val), \"You are in the box:\", current_value )\n",
    "\n",
    "    elif current_value > 0 and dice_value != 4:\n",
    "      if current_value+dice_value <= MAX_VAL:\n",
    "        current_value = current_value + dice_value\n",
    "        print(\"You got {}, pass the dice to next player.\".format(dice_value), \"You are in the box:\", current_value)\n",
    "    else:\n",
    "      print(\"Pass the chance to player-2\")\n",
    "      final_value = current_value\n",
    "    #print(\"\\n\" + player_name + \" moved from \" + str(old_value) + \" to \" + str(current_value))\n",
    "    return current_value"
   ]
  },
  {
   "cell_type": "code",
   "execution_count": 14,
   "metadata": {},
   "outputs": [
    {
     "data": {
      "image/png": "[encoded data removed]",
      "text/plain": [
       "<Figure size 288x288 with 1 Axes>"
      ]
     },
     "metadata": {},
     "output_type": "display_data"
    },
    {
     "name": "stdout",
     "output_type": "stream",
     "text": [
      "5\n"
     ]
    }
   ],
   "source": [
    "def blc_spr(state, title=\"\", figsize=None, *, rho=None, filename=None):\n",
    "\n",
    "    # Data\n",
    "    bloch_data = _bloch_multivector_data(state)\n",
    "    num = len(bloch_data)\n",
    "    width, height = plt.figaspect(1 / num)\n",
    "    fig = plt.figure(figsize=(width, height))\n",
    "    for i in range(num):\n",
    "        pos = i\n",
    "        ax = fig.add_subplot(1, num, i + 1, projection=\"3d\")\n",
    "        #plot_bloch_vector(bloch_data[i], \"qubit \" + str(pos), ax=ax, figsize=figsize)\n",
    "        plot_bloch_vector(bloch_data[i], ax=ax, figsize=figsize)\n",
    "    fig.suptitle(title, fontsize=16, y=1.01)\n",
    "    #matplotlib_close_if_inline(fig)\n",
    "    return fig\n",
    "\n",
    "    \n",
    "# a = blc_spr([1,0])\n",
    "# plt.pause(1)\n",
    "# #plt.close('all')\n",
    "# print(5)"
   ]
  },
  {
   "cell_type": "code",
   "execution_count": 16,
   "metadata": {
    "id": "NO2U84bf2VGj"
   },
   "outputs": [
    {
     "name": "stdout",
     "output_type": "stream",
     "text": [
      "\n",
      "    Welcome to the Quantum Maze\n",
      "    Version: 1.0.0\n",
      "    Developed by: The Seekers\n",
      "    \n",
      "    Rules:\n",
      "      1. Initally both the players are at starting position i.e. 0. \n",
      "         Take it in turns to roll the dice. \n",
      "         Move forward the number of spaces shown on the maze.\n",
      "      2. The first player to solve the quantum maze is the winner.\n",
      "      3. Hit enter to roll the dice.\n",
      "    \n",
      "    \n"
     ]
    },
    {
     "name": "stdin",
     "output_type": "stream",
     "text": [
      "Please enter a valid name for first player:  \n",
      "Please enter a valid name for first player:  h\n",
      "Please enter a valid name for second player:  s\n"
     ]
    },
    {
     "name": "stdout",
     "output_type": "stream",
     "text": [
      "\n",
      "Match will be played between 'h' and 's'\n",
      "\n"
     ]
    },
    {
     "name": "stdin",
     "output_type": "stream",
     "text": [
      "\n",
      "h: Please proceed. Hit the enter to roll dice:  \n"
     ]
    },
    {
     "name": "stdout",
     "output_type": "stream",
     "text": [
      "\n",
      "Rolling dice...\n",
      "You got 2\n",
      "h moving....\n",
      "You got 2, pass the dice to next player. You are in the box: 2\n"
     ]
    },
    {
     "name": "stdin",
     "output_type": "stream",
     "text": [
      "\n",
      "s: Your turn. Hit the enter to roll dice:  \n"
     ]
    },
    {
     "name": "stdout",
     "output_type": "stream",
     "text": [
      "\n",
      "Rolling dice...\n",
      "You got 2\n",
      "s moving....\n",
      "You got 2, pass the dice to next player. You are in the box: 2\n",
      "2\n"
     ]
    },
    {
     "name": "stdin",
     "output_type": "stream",
     "text": [
      "\n",
      "h: Are you ready? Hit the enter to roll dice:  \n"
     ]
    },
    {
     "name": "stdout",
     "output_type": "stream",
     "text": [
      "\n",
      "Rolling dice...\n",
      "You got 4\n",
      "h moving....\n",
      "You got 1 more chance! Roll the dice.\n",
      "You got 2! Roll the dice. You are in the box: 8\n"
     ]
    },
    {
     "name": "stdin",
     "output_type": "stream",
     "text": [
      "\n",
      "s: Lets win this. Hit the enter to roll dice:  \n"
     ]
    },
    {
     "name": "stdout",
     "output_type": "stream",
     "text": [
      "\n",
      "Rolling dice...\n",
      "You got 1\n",
      "s moving....\n",
      "You got 1, pass the dice to next player. You are in the box: 3\n",
      "3\n"
     ]
    },
    {
     "name": "stdin",
     "output_type": "stream",
     "text": [
      "\n",
      "h: Lets win this. Hit the enter to roll dice:  \n"
     ]
    },
    {
     "name": "stdout",
     "output_type": "stream",
     "text": [
      "\n",
      "Rolling dice...\n",
      "You got 3\n",
      "h moving....\n",
      "You got 3, pass the dice to next player. You are in the box: 11\n"
     ]
    },
    {
     "name": "stdin",
     "output_type": "stream",
     "text": [
      "\n",
      "s: Go. Hit the enter to roll dice:  \n"
     ]
    },
    {
     "name": "stdout",
     "output_type": "stream",
     "text": [
      "\n",
      "Rolling dice...\n",
      "You got 1\n",
      "s moving....\n",
      "You got 1, pass the dice to next player. You are in the box: 4\n",
      "4\n"
     ]
    },
    {
     "name": "stdin",
     "output_type": "stream",
     "text": [
      "\n",
      "h: Two Hadamards decide your fate... Hit the enter to roll dice:  \n"
     ]
    },
    {
     "name": "stdout",
     "output_type": "stream",
     "text": [
      "\n",
      "Rolling dice...\n",
      "You got 2\n",
      "h moving....\n",
      "You got 2, pass the dice to next player. You are in the box: 13\n"
     ]
    },
    {
     "name": "stdin",
     "output_type": "stream",
     "text": [
      "\n",
      "s: Two Hadamards decide your fate... Hit the enter to roll dice:  \n"
     ]
    },
    {
     "name": "stdout",
     "output_type": "stream",
     "text": [
      "\n",
      "Rolling dice...\n",
      "You got 3\n",
      "s moving....\n",
      "You got 3, pass the dice to next player. You are in the box: 7\n",
      "7\n"
     ]
    },
    {
     "name": "stdin",
     "output_type": "stream",
     "text": [
      "\n",
      "h: Your turn. Hit the enter to roll dice:  \n"
     ]
    },
    {
     "name": "stdout",
     "output_type": "stream",
     "text": [
      "\n",
      "Rolling dice...\n",
      "You got 2\n",
      "h moving....\n",
      "You got 2, pass the dice to next player. You are in the box: 15\n"
     ]
    },
    {
     "name": "stdin",
     "output_type": "stream",
     "text": [
      "\n",
      "s: Lets win this. Hit the enter to roll dice:  \n"
     ]
    },
    {
     "name": "stdout",
     "output_type": "stream",
     "text": [
      "\n",
      "Rolling dice...\n",
      "You got 1\n",
      "s moving....\n",
      "You got 1, pass the dice to next player. You are in the box: 8\n",
      "8\n"
     ]
    },
    {
     "name": "stdin",
     "output_type": "stream",
     "text": [
      "\n",
      "h: Your turn. Hit the enter to roll dice:  \n"
     ]
    },
    {
     "name": "stdout",
     "output_type": "stream",
     "text": [
      "\n",
      "Rolling dice...\n",
      "You got 3\n",
      "h moving....\n",
      "You got 3, pass the dice to next player. You are in the box: 18\n"
     ]
    },
    {
     "name": "stdin",
     "output_type": "stream",
     "text": [
      "\n",
      "s: Your turn. Hit the enter to roll dice:  \n"
     ]
    },
    {
     "name": "stdout",
     "output_type": "stream",
     "text": [
      "\n",
      "Rolling dice...\n",
      "You got 4\n",
      "s moving....\n",
      "You got 1 more chance! Roll the dice.\n",
      "You got 3! Roll the dice. You are in the box: 15\n",
      "15\n"
     ]
    },
    {
     "name": "stdin",
     "output_type": "stream",
     "text": [
      "\n",
      "h: Please proceed. Hit the enter to roll dice:  \n"
     ]
    },
    {
     "name": "stdout",
     "output_type": "stream",
     "text": [
      "\n",
      "Rolling dice...\n",
      "You got 1\n",
      "h moving....\n",
      "You got 1, pass the dice to next player. You are in the box: 19\n"
     ]
    },
    {
     "name": "stdin",
     "output_type": "stream",
     "text": [
      "\n",
      "s: Go. Hit the enter to roll dice:  \n"
     ]
    },
    {
     "name": "stdout",
     "output_type": "stream",
     "text": [
      "\n",
      "Rolling dice...\n",
      "You got 2\n",
      "s moving....\n",
      "You got 2, pass the dice to next player. You are in the box: 17\n",
      "17\n"
     ]
    },
    {
     "name": "stdin",
     "output_type": "stream",
     "text": [
      "\n",
      "h: Your turn. Hit the enter to roll dice:  \n"
     ]
    },
    {
     "name": "stdout",
     "output_type": "stream",
     "text": [
      "\n",
      "Rolling dice...\n",
      "You got 1\n",
      "h moving....\n",
      "You got 1, pass the dice to next player. You are in the box: 20\n"
     ]
    },
    {
     "name": "stdin",
     "output_type": "stream",
     "text": [
      "\n",
      "s: Two Hadamards decide your fate... Hit the enter to roll dice:  \n"
     ]
    },
    {
     "name": "stdout",
     "output_type": "stream",
     "text": [
      "\n",
      "Rolling dice...\n",
      "You got 4\n",
      "s moving....\n",
      "You got 1 more chance! Roll the dice.\n",
      "You got 1! Roll the dice. You are in the box: 22\n",
      "22\n"
     ]
    },
    {
     "name": "stdin",
     "output_type": "stream",
     "text": [
      "\n",
      "h: Your turn. Hit the enter to roll dice:  \n"
     ]
    },
    {
     "name": "stdout",
     "output_type": "stream",
     "text": [
      "\n",
      "Rolling dice...\n",
      "You got 2\n",
      "h moving....\n",
      "You got 2, pass the dice to next player. You are in the box: 22\n"
     ]
    },
    {
     "name": "stdin",
     "output_type": "stream",
     "text": [
      "\n",
      "s: Go. Hit the enter to roll dice:  \n"
     ]
    },
    {
     "name": "stdout",
     "output_type": "stream",
     "text": [
      "\n",
      "Rolling dice...\n",
      "You got 2\n",
      "s moving....\n",
      "22\n"
     ]
    },
    {
     "name": "stdin",
     "output_type": "stream",
     "text": [
      "\n",
      "h: In a state of Quantum Superposition? Hit the enter to roll dice:  \n"
     ]
    },
    {
     "name": "stdout",
     "output_type": "stream",
     "text": [
      "\n",
      "Rolling dice...\n",
      "You got 4\n",
      "h moving....\n"
     ]
    },
    {
     "name": "stdin",
     "output_type": "stream",
     "text": [
      "\n",
      "s: Two Hadamards decide your fate... Hit the enter to roll dice:  \n"
     ]
    },
    {
     "name": "stdout",
     "output_type": "stream",
     "text": [
      "\n",
      "Rolling dice...\n",
      "You got 4\n",
      "s moving....\n",
      "22\n"
     ]
    },
    {
     "name": "stdin",
     "output_type": "stream",
     "text": [
      "\n",
      "h: Two Hadamards decide your fate... Hit the enter to roll dice:  \n"
     ]
    },
    {
     "name": "stdout",
     "output_type": "stream",
     "text": [
      "\n",
      "Rolling dice...\n",
      "You got 3\n",
      "h moving....\n"
     ]
    },
    {
     "name": "stdin",
     "output_type": "stream",
     "text": [
      "\n",
      "s: Your turn. Hit the enter to roll dice:  \n"
     ]
    },
    {
     "name": "stdout",
     "output_type": "stream",
     "text": [
      "\n",
      "Rolling dice...\n",
      "You got 1\n",
      "s moving....\n",
      "You got 1, pass the dice to next player. You are in the box: 23\n",
      "23\n"
     ]
    },
    {
     "data": {
      "image/png": "[encoded data removed]",
      "text/plain": [
       "<Figure size 288x288 with 1 Axes>"
      ]
     },
     "metadata": {},
     "output_type": "display_data"
    },
    {
     "name": "stdout",
     "output_type": "stream",
     "text": [
      "Gates = ['I', 'X', 'Y', 'Z', 'H', 'S', 'T', 'Sdg', 'Tdg', 'RX', 'RY', 'RZ', 'U']\n"
     ]
    },
    {
     "name": "stdin",
     "output_type": "stream",
     "text": [
      "Please choose a gate from the gate list: i\n"
     ]
    },
    {
     "name": "stdout",
     "output_type": "stream",
     "text": [
      "\n",
      "\n",
      "\n",
      "Thats it.\n",
      "\n",
      "s won the game.\n",
      "Congratulations s\n",
      "\n",
      "Thank you for playing the game.\n"
     ]
    },
    {
     "ename": "SystemExit",
     "evalue": "1",
     "output_type": "error",
     "traceback": [
      "An exception has occurred, use %tb to see the full traceback.\n",
      "\u001b[0;31mSystemExit\u001b[0m\u001b[0;31m:\u001b[0m 1\n"
     ]
    },
    {
     "name": "stderr",
     "output_type": "stream",
     "text": [
      "/opt/conda/lib/python3.8/site-packages/IPython/core/interactiveshell.py:3377: UserWarning: To exit: use 'exit', 'quit', or Ctrl-D.\n",
      "  warn(\"To exit: use 'exit', 'quit', or Ctrl-D.\", stacklevel=1)\n"
     ]
    }
   ],
   "source": [
    "\n",
    "\n",
    "\n",
    "gate_list = ['I', 'X', 'Y', 'Z', 'H', 'S', 'T', 'Sdg', 'Tdg', 'RX', 'RY', 'RZ', 'U']\n",
    "\n",
    "\n",
    "def rand_bloch(num_qbits = 1, seed = None):\n",
    "    gate_list = [XGate,IGate,XGate,HGate,YGate,ZGate,HGate,YGate,SGate,HGate,TGate,HGate]\n",
    "\n",
    "    if seed is None:\n",
    "        seed = np.random.randint(0, np.iinfo(np.int32).max)\n",
    "\n",
    "    rng = np.random.default_rng(seed)\n",
    "    operat = rng.choice(gate_list)\n",
    "    operat1 = rng.choice(gate_list)\n",
    "    op = operat()\n",
    "    op1 = operat1()\n",
    "    pi = np.pi\n",
    "\n",
    "    qc = QuantumCircuit(1)\n",
    "    qc.append(op, [0])\n",
    "    qc.append(op1, [0])\n",
    "    qc.save_statevector()\n",
    "    qobj = assemble(qc)  \n",
    "    state = sim.run(qobj).result().get_statevector()\n",
    "    return state\n",
    "\n",
    "\n",
    "\n",
    "# def blc_spr(state, title=\"\", figsize=None, *, rho=None, reverse_bits=False, filename=None):\n",
    "\n",
    "#     # Data\n",
    "#     bloch_data = (\n",
    "#         _bloch_multivector_data(state)[::-1] if reverse_bits else _bloch_multivector_data(state)\n",
    "#     )\n",
    "#     num = len(bloch_data)\n",
    "#     width, height = plt.figaspect(1 / num)\n",
    "#     fig = plt.figure(figsize=(width, height))\n",
    "#     for i in range(num):\n",
    "#         pos = num - 1 - i if reverse_bits else i\n",
    "#         ax = fig.add_subplot(1, num, i + 1, projection=\"3d\")\n",
    "#         plot_bloch_vector(bloch_data[i], \"qubit \" + str(pos), ax=ax, figsize=figsize)\n",
    "#     fig.suptitle(title, fontsize=16, y=1.01)\n",
    "#     #matplotlib_close_if_inline(fig)\n",
    "#     return fig\n",
    "\n",
    "\n",
    "\n",
    "\n",
    "def state_vec_circ(state):\n",
    "    inp = [state[0], state[1]]\n",
    "    svc = QuantumCircuit(1)  \n",
    "    initial_state = inp\n",
    "    svc.initialize(initial_state, 0) \n",
    "    return svc\n",
    "\n",
    "def final_bloch_operation(gate, state):\n",
    "    final_circuit = QuantumCircuit(1)\n",
    "    final_circuit.append(state_vec_circ(state), [0])\n",
    "    if gate == 'X' or 'x':\n",
    "      final_circuit.x(0)\n",
    "\n",
    "    elif gate == 'Y':\n",
    "      final_circuit.y(0)\n",
    "\n",
    "    elif gate == 'Z':\n",
    "      final_circuit.z(0)\n",
    "\n",
    "    elif gate == 'H':\n",
    "      final_circuit.h(0)\n",
    "\n",
    "    elif gate == 'S':\n",
    "      final_circuit.s(0)\n",
    "\n",
    "    elif gate == 'T':\n",
    "      final_circuit.t(0)\n",
    "\n",
    "    elif gate == 'U':\n",
    "      theta = float(input(\"Please enter the values of Theta, Phi and Lambda:\"))\n",
    "      phi = float(input())\n",
    "      lambd = float(input())\n",
    "      final_circuit.u(theta, phi, lambd, 0)\n",
    "\n",
    "    elif gate == 'RX':\n",
    "      theta1 = float(input(\"Please enter the value of Theta:\"))\n",
    "      final_circuit.rx(theta1, 0)\n",
    "\n",
    "    elif gate == 'RY':\n",
    "      theta2 = float(input(\"Please enter the value of Theta:\"))\n",
    "      final_circuit.ry(theta2, 0)\n",
    "\n",
    "    elif gate == 'RZ':\n",
    "      theta3 = float(input(\"Please enter the value of Theta:\"))\n",
    "      final_circuit.rz(theta3, 0)\n",
    "\n",
    "    else:\n",
    "      final_circuit.barrier()\n",
    "\n",
    "    return final_circuit\n",
    "\n",
    "def check_win(player_name, position):\n",
    "    time.sleep(SLEEP_BETWEEN_ACTIONS)\n",
    "    if MAX_VAL == position:\n",
    "        state = rand_bloch()\n",
    "        gate = last_puzzle()\n",
    "        final_state_circ = QuantumCircuit(1,1)\n",
    "        final_state_circ.append(final_bloch_operation(gate, state), [0])\n",
    "        final_state_circ.measure(0,0)\n",
    "        job_final = execute(final_state_circ, backend = backend, shots = 1).result().get_counts()\n",
    "        res_final = list(job_final.keys())[0]\n",
    "        final_val = int(res_final, 2)\n",
    "        if final_val ==0:\n",
    "            print(\"\\n\\n\\nThats it.\\n\\n\" + player_name + \" won the game.\")\n",
    "            print(\"Congratulations \" + player_name)\n",
    "            print(\"\\nThank you for playing the game.\")\n",
    "            sys.exit(1)\n",
    "\n",
    "def start():\n",
    "    welcome_msg()\n",
    "    time.sleep(SLEEP_BETWEEN_ACTIONS)\n",
    "    player1_name, player2_name = get_player_names()\n",
    "    time.sleep(SLEEP_BETWEEN_ACTIONS)\n",
    "\n",
    "    player1_current_position = 0\n",
    "    player2_current_position = 0\n",
    "\n",
    "    while True:\n",
    "        time.sleep(SLEEP_BETWEEN_ACTIONS)\n",
    "        input_1 = input(\"\\n\" + player1_name + \": \" + random.choice(player_turn_text) + \" Hit the enter to roll dice: \")\n",
    "        print(\"\\nRolling dice...\")\n",
    "        dice_value = get_dice_value()\n",
    "        print(\"You got\", dice_value)\n",
    "        time.sleep(SLEEP_BETWEEN_ACTIONS)\n",
    "        print(player1_name + \" moving....\")\n",
    "        player1_current_position = quantum_maze(player1_name, player1_current_position, dice_value)\n",
    "\n",
    "        if player1_current_position == MAX_VAL:\n",
    "            stt = rand_bloch()\n",
    "            blc_spr(stt)\n",
    "            plt.pause(1)\n",
    "            check_win(player1_name, player1_current_position)\n",
    "            blc_spr(stt)\n",
    "            plt.pause(1)\n",
    "            \n",
    "        else:\n",
    "            pass \n",
    "            check_win(player1_name, player1_current_position)\n",
    "\n",
    "        input_2 = input(\"\\n\" + player2_name + \": \" + random.choice(player_turn_text) + \" Hit the enter to roll dice: \")\n",
    "        print(\"\\nRolling dice...\")\n",
    "        dice_value = get_dice_value()\n",
    "        print(\"You got\", dice_value)\n",
    "        time.sleep(SLEEP_BETWEEN_ACTIONS)\n",
    "        print(player2_name + \" moving....\")\n",
    "        player2_current_position = quantum_maze(player2_name, player2_current_position, dice_value)\n",
    "        print(player2_current_position)\n",
    "        if player2_current_position == MAX_VAL:\n",
    "            stt2 = rand_bloch()\n",
    "            blc_spr(stt2)\n",
    "            plt.pause(1)\n",
    "            check_win(player2_name, player2_current_position)\n",
    "            #blc_spr(stt2)\n",
    "            \n",
    "        else:\n",
    "            pass\n",
    "        \n",
    "            check_win(player2_name, player2_current_position)\n",
    "\n",
    "if __name__ == \"__main__\":\n",
    "    start()"
   ]
  },
  {
   "cell_type": "code",
   "execution_count": 6,
   "metadata": {},
   "outputs": [
    {
     "data": {
      "image/png": "[encoded data removed]",
      "text/plain": [
       "<Figure size 288x288 with 1 Axes>"
      ]
     },
     "execution_count": 6,
     "metadata": {},
     "output_type": "execute_result"
    }
   ],
   "source": [
    "from qiskit import QuantumCircuit\n",
    "from qiskit.quantum_info import Statevector\n",
    "from qiskit.visualization import plot_bloch_multivector\n",
    "%matplotlib inline\n",
    "\n",
    "qc = QuantumCircuit(1)\n",
    "qc.h(0)\n",
    "\n",
    "state = Statevector.from_instruction(qc)\n",
    "plot_bloch_multivector(state, title=\"New Bloch Multivector\", reverse_bits=False)"
   ]
  },
  {
   "cell_type": "code",
   "execution_count": null,
   "metadata": {},
   "outputs": [],
   "source": []
  }
 ],
 "metadata": {
  "colab": {
   "name": "iQuHACK Quantum-Maze .ipynb",
   "provenance": []
  },
  "kernelspec": {
   "display_name": "Qiskit v0.35.0 (ipykernel)",
   "language": "python",
   "name": "python3"
  },
  "language_info": {
   "codemirror_mode": {
    "name": "ipython",
    "version": 3
   },
   "file_extension": ".py",
   "mimetype": "text/x-python",
   "name": "python",
   "nbconvert_exporter": "python",
   "pygments_lexer": "ipython3",
   "version": "3.8.13"
  },
  "widgets": {
   "application/vnd.jupyter.widget-state+json": {
    "state": {},
    "version_major": 2,
    "version_minor": 0
   }
  }
 },
 "nbformat": 4,
 "nbformat_minor": 4
}
