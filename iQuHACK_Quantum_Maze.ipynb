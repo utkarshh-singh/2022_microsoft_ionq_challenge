{
 "cells": [
  {
   "cell_type": "markdown",
   "metadata": {
    "id": "wyffALk616VZ"
   },
   "source": [
    "# Import Qiskit libraries:"
   ]
  },
  {
   "cell_type": "code",
   "execution_count": 5,
   "metadata": {
    "id": "e3pqFo_G0ijv"
   },
   "outputs": [],
   "source": [
    "from qiskit import QuantumCircuit, QuantumRegister, ClassicalRegister, BasicAer, Aer, execute\n",
    "from qiskit.visualization import plot_histogram\n",
    "from qiskit.tools.monitor import job_monitor\n",
    "from qiskit.utils import algorithm_globals\n",
    "from qiskit.utils import QuantumInstance\n",
    "from qiskit.quantum_info import Statevector\n",
    "from qiskit.extensions import Initialize\n",
    "\n",
    "from qiskit.visualization.utils import (_bloch_multivector_data,_paulivec_data,matplotlib_close_if_inline,)\n",
    "from qiskit.visualization import plot_bloch_multivector, plot_state_qsphere, plot_state_city, plot_bloch_vector\n",
    "from qiskit.compiler import assemble\n",
    "from qiskit.circuit.library.standard_gates import (IGate, U1Gate,XGate,YGate,ZGate,HGate,SGate,SdgGate,TGate,TdgGate,RXGate,RYGate,RZGate)\n",
    "\n",
    "from matplotlib import pyplot as plt\n",
    "\n",
    "import warnings\n",
    "import numpy as np\n",
    "import time\n",
    "import random\n",
    "import sys\n",
    "import site\n",
    "\n",
    "warnings.filterwarnings('ignore')\n",
    "#from azure.quantum.qiskit import AzureQuantumProvider"
   ]
  },
  {
   "cell_type": "markdown",
   "metadata": {
    "id": "2wdOjZ9R0kCy"
   },
   "source": [
    "# For Microsoft-IonQ Backends:"
   ]
  },
  {
   "cell_type": "code",
   "execution_count": null,
   "metadata": {
    "id": "Xb4UdcJn0XKj"
   },
   "outputs": [],
   "source": [
    "from azure.quantum import Workspace\n",
    "workspace = Workspace (\n",
    "    subscription_id = \"b1d7f7f8-743f-458e-b3a0-3e09734d716d\",\n",
    "    resource_group = \"aq-hackathons\",\n",
    "    name = \"aq-hackathon-01\",\n",
    "    location = \"eastus\"\n",
    ")\n"
   ]
  },
  {
   "cell_type": "code",
   "execution_count": null,
   "metadata": {
    "id": "Ghr3w7KP1lJa"
   },
   "outputs": [],
   "source": [
    "from azure.quantum.qiskit import AzureQuantumProvider\n",
    "provider = AzureQuantumProvider (\n",
    "    resource_id = \"/subscriptions/b1d7f7f8-743f-458e-b3a0-3e09734d716d/resourceGroups/aq-hackathons/providers/Microsoft.Quantum/Workspaces/aq-hackathon-01\",\n",
    "    location = \"eastus\"\n",
    ")"
   ]
  },
  {
   "cell_type": "code",
   "execution_count": null,
   "metadata": {
    "id": "kxqFg_P81lL3"
   },
   "outputs": [],
   "source": [
    "print([backend.name() for backend in provider.backends()])"
   ]
  },
  {
   "cell_type": "code",
   "execution_count": null,
   "metadata": {
    "id": "LFemBYHk1rSO"
   },
   "outputs": [],
   "source": [
    "backend = provider.get_backend(\"ionq.qpu\")\n",
    "sim = Aer.get_backend('aer_simulator')"
   ]
  },
  {
   "cell_type": "markdown",
   "metadata": {
    "id": "ZcPNMLUl0lrY"
   },
   "source": [
    "# For IBMQ Backends:"
   ]
  },
  {
   "cell_type": "code",
   "execution_count": 6,
   "metadata": {
    "id": "oWCwyE-s0igs"
   },
   "outputs": [],
   "source": [
    "#backend = provider.get_backend(\"ibmq_manila\")\n",
    "backend = BasicAer.get_backend(\"qasm_simulator\")\n",
    "sim = Aer.get_backend('aer_simulator')"
   ]
  },
  {
   "cell_type": "markdown",
   "metadata": {},
   "source": [
    "## Functions:"
   ]
  },
  {
   "cell_type": "code",
   "execution_count": 7,
   "metadata": {
    "id": "5HACePSE2RYS"
   },
   "outputs": [],
   "source": [
    "# just of effects. add a delay of 1 second before performing any action\n",
    "SLEEP_BETWEEN_ACTIONS = 0.1\n",
    "MAX_VAL = 23\n",
    "DICE_FACE = 4\n",
    "\n",
    "single_q_gates = ['h', 'x', 'y', 'I', 'z', 's', 'sdg', 't', 'tdg'] \n",
    "single_q_param_gates = ['rx', 'ry', 'rz', 'u', 'p']\n",
    "double_q_gates = ['cx', 'cz', 'cy', 'ch', 'swap']\n",
    "double_q_param_gates = ['cu', 'cp', 'crx', 'cry', 'crz'] \n",
    "\n",
    "player_turn_text = [\n",
    "    \"Your turn.\",\n",
    "    \"Go.\",\n",
    "    \"Please proceed.\",\n",
    "    \"Lets win this.\",\n",
    "    \"Are you ready?\",\n",
    "    \"In a state of Quantum Superposition?\",\n",
    "    \"Two Hadamards decide your fate...\"\n",
    "]\n",
    "snake_bite = [\n",
    "    \"boohoo\",\n",
    "    \"bummer\",\n",
    "    \"snake bite\",\n",
    "    \"oh no\",\n",
    "    \"dang\"\n",
    "]\n",
    "\n",
    "ladder_jump = [\n",
    "    \"woohoo\",\n",
    "    \"woww\",\n",
    "    \"nailed it\",\n",
    "    \"oh my God...\",\n",
    "    \"yaayyy\"\n",
    "]\n",
    "\n",
    "def welcome_msg():\n",
    "    msg = \"\"\"\n",
    "    Welcome to the Quantum Maze\n",
    "    Version: 1.0.0\n",
    "    Developed by: The Seekers\n",
    "    \n",
    "    Rules:\n",
    "      1. Initally both the players are at starting position i.e. 0. \n",
    "         Take it in turns to roll the dice. \n",
    "         Move forward the number of spaces shown on the maze.\n",
    "      2. The first player to solve the quantum maze is the winner.\n",
    "      3. Hit enter to roll the dice.\n",
    "    \n",
    "    \"\"\"\n",
    "    print(msg)\n",
    "\n",
    "\n",
    "def get_player_names():\n",
    "    player1_name = None\n",
    "    while not player1_name:\n",
    "        player1_name = input(\"Please enter a valid name for first player: \").strip()\n",
    "\n",
    "    player2_name = None\n",
    "    while not player2_name:\n",
    "        player2_name = input(\"Please enter a valid name for second player: \").strip()\n",
    "\n",
    "    print(\"\\nMatch will be played between '\" + player1_name + \"' and '\" + player2_name + \"'\\n\")\n",
    "    return player1_name, player2_name\n",
    "\n",
    "\n",
    "def get_dice_value():\n",
    "    time.sleep(SLEEP_BETWEEN_ACTIONS)\n",
    "    #function to roll the dice\n",
    "    qc = QuantumCircuit(2, 2)\n",
    "    qc.name = \"dice roll\"\n",
    "    qc.h(0)\n",
    "    qc.h(1)\n",
    "    qc.measure([0,1], [0,1])\n",
    "    job = execute(qc, backend = backend, shots = 1).result().get_counts()\n",
    "    res = list(job.keys())[0]\n",
    "    val = int(res, 2)\n",
    "    final_val = val if val == 1 or val == 2 or val == 3 else 4\n",
    "    return final_val\n",
    "\n",
    "def my_float(s):\n",
    "    constants = {\"pi\": 3.14159, \"e\": 2.71928}\n",
    "    if s in constants:\n",
    "        return constants[s]\n",
    "    else:\n",
    "        return float(s)\n",
    "\n",
    "def last_puzzle():\n",
    "    # print(\"Enter the gate(s) to reset the first Qubit.\")\n",
    "    g1 = input(\"Please choose a gate to reset the qubit to |0>:\").lower()\n",
    "    if g1 in single_q_param_gates:\n",
    "        param = my_float(input(\"Parameter value =\"))\n",
    "        g1 = (g1, param)\n",
    "    else:\n",
    "        pass \n",
    "    \n",
    "    in1 = input(\"Do you want to apply more gates? (Y/N)\").upper()\n",
    "    if in1 == 'Y':\n",
    "        g2 = input(\"Apply last quantum operation:\").lower()\n",
    "        if g2 in single_q_param_gates:\n",
    "            param2 = my_float(input(\"Parameter value =\"))\n",
    "            g2 = (g2, param2)\n",
    "        else:\n",
    "            pass \n",
    "    else:\n",
    "        g2 = 'I'\n",
    "\n",
    "    return [g1, g2]\n",
    "\n",
    "def quantum_maze(player_name, current_value, dice_value):\n",
    "    time.sleep(SLEEP_BETWEEN_ACTIONS)\n",
    "    old_value = current_value\n",
    "\n",
    "    #print(\"Current Value = \"+str(current_value))\n",
    "    #print(\"Dice Value = \"+str(dice_value))\n",
    "    if current_value == MAX_VAL or (current_value == 19 and dice_value == 4):\n",
    "      if current_value == 19 and dice_value == 4:\n",
    "        current_value += 4\n",
    "      if dice_value == 4:\n",
    "        print(\"Solve this Quantum Puzzle...\")\n",
    "        ##bloch_sphere function?\n",
    "      else:\n",
    "        print(\"Pass the dice to next player.\", \"You are in the box:\", current_value )\n",
    "        return current_value\n",
    "\n",
    "    elif current_value == 0 and dice_value == 4:\n",
    "      current_value = 4\n",
    "      #print(\"Current Value = \"+str(current_value))\n",
    "      print(\"You got 1 more chance! Roll the dice.\")\n",
    "      next_rolled_val = get_dice_value()\n",
    "      if current_value+next_rolled_val < MAX_VAL:\n",
    "        current_value += next_rolled_val\n",
    "        print(\"You got {}!.\".format(next_rolled_val), \"You are in the box:\", current_value )\n",
    "    \n",
    "    elif current_value == 0 and dice_value != 4:\n",
    "      if current_value+dice_value <= MAX_VAL:\n",
    "        current_value = current_value + dice_value\n",
    "        print(\"You got {}, pass the dice to next player.\".format(dice_value), \"You are in the box:\", current_value )\n",
    "\n",
    "    elif current_value > 0 and dice_value == 4:\n",
    "      if current_value+4 <= MAX_VAL:\n",
    "        current_value += 4\n",
    "        print(\"You got 1 more chance! Roll the dice.\")\n",
    "        next_rolled_val = get_dice_value()\n",
    "        if current_value+next_rolled_val < MAX_VAL:\n",
    "          current_value += next_rolled_val\n",
    "          print(\"You got {}! Roll the dice.\".format(next_rolled_val), \"You are in the box:\", current_value )\n",
    "\n",
    "    elif current_value > 0 and dice_value != 4:\n",
    "      if current_value+dice_value <= MAX_VAL:\n",
    "        current_value = current_value + dice_value\n",
    "        print(\"You got {}, pass the dice to next player.\".format(dice_value), \"You are in the box:\", current_value)\n",
    "    else:\n",
    "      print(\"Pass the chance to player-2\")\n",
    "      final_value = current_value\n",
    "    #print(\"\\n\" + player_name + \" moved from \" + str(old_value) + \" to \" + str(current_value))\n",
    "    return current_value"
   ]
  },
  {
   "cell_type": "code",
   "execution_count": 10,
   "metadata": {
    "id": "NO2U84bf2VGj"
   },
   "outputs": [
    {
     "name": "stdout",
     "output_type": "stream",
     "text": [
      "\n",
      "    Welcome to the Quantum Maze\n",
      "    Version: 1.0.0\n",
      "    Developed by: The Seekers\n",
      "    \n",
      "    Rules:\n",
      "      1. Initally both the players are at starting position i.e. 0. \n",
      "         Take it in turns to roll the dice. \n",
      "         Move forward the number of spaces shown on the maze.\n",
      "      2. The first player to solve the quantum maze is the winner.\n",
      "      3. Hit enter to roll the dice.\n",
      "    \n",
      "    \n"
     ]
    },
    {
     "name": "stdin",
     "output_type": "stream",
     "text": [
      "Please enter a valid name for first player:  j\n",
      "Please enter a valid name for second player:  k\n"
     ]
    },
    {
     "name": "stdout",
     "output_type": "stream",
     "text": [
      "\n",
      "Match will be played between 'j' and 'k'\n",
      "\n"
     ]
    },
    {
     "name": "stdin",
     "output_type": "stream",
     "text": [
      "\n",
      "j: Lets win this. Hit the enter to roll dice:  \n"
     ]
    },
    {
     "name": "stdout",
     "output_type": "stream",
     "text": [
      "\n",
      "Rolling dice...\n",
      "You got 2\n",
      "j moving....\n",
      "You got 2, pass the dice to next player. You are in the box: 2\n"
     ]
    },
    {
     "name": "stdin",
     "output_type": "stream",
     "text": [
      "\n",
      "k: Are you ready? Hit the enter to roll dice:  \n"
     ]
    },
    {
     "name": "stdout",
     "output_type": "stream",
     "text": [
      "\n",
      "Rolling dice...\n",
      "You got 4\n",
      "k moving....\n",
      "You got 1 more chance! Roll the dice.\n",
      "You got 3!. You are in the box: 7\n",
      "7\n"
     ]
    },
    {
     "name": "stdin",
     "output_type": "stream",
     "text": [
      "\n",
      "j: Go. Hit the enter to roll dice:  \n"
     ]
    },
    {
     "name": "stdout",
     "output_type": "stream",
     "text": [
      "\n",
      "Rolling dice...\n",
      "You got 1\n",
      "j moving....\n",
      "You got 1, pass the dice to next player. You are in the box: 3\n"
     ]
    },
    {
     "name": "stdin",
     "output_type": "stream",
     "text": [
      "\n",
      "k: Please proceed. Hit the enter to roll dice:  \n"
     ]
    },
    {
     "name": "stdout",
     "output_type": "stream",
     "text": [
      "\n",
      "Rolling dice...\n",
      "You got 1\n",
      "k moving....\n",
      "You got 1, pass the dice to next player. You are in the box: 8\n",
      "8\n"
     ]
    },
    {
     "name": "stdin",
     "output_type": "stream",
     "text": [
      "\n",
      "j: Go. Hit the enter to roll dice:  \n"
     ]
    },
    {
     "name": "stdout",
     "output_type": "stream",
     "text": [
      "\n",
      "Rolling dice...\n",
      "You got 3\n",
      "j moving....\n",
      "You got 3, pass the dice to next player. You are in the box: 6\n"
     ]
    },
    {
     "name": "stdin",
     "output_type": "stream",
     "text": [
      "\n",
      "k: Please proceed. Hit the enter to roll dice:  \n"
     ]
    },
    {
     "name": "stdout",
     "output_type": "stream",
     "text": [
      "\n",
      "Rolling dice...\n",
      "You got 1\n",
      "k moving....\n",
      "You got 1, pass the dice to next player. You are in the box: 9\n",
      "9\n"
     ]
    },
    {
     "name": "stdin",
     "output_type": "stream",
     "text": [
      "\n",
      "j: Are you ready? Hit the enter to roll dice:  \n"
     ]
    },
    {
     "name": "stdout",
     "output_type": "stream",
     "text": [
      "\n",
      "Rolling dice...\n",
      "You got 2\n",
      "j moving....\n",
      "You got 2, pass the dice to next player. You are in the box: 8\n"
     ]
    },
    {
     "name": "stdin",
     "output_type": "stream",
     "text": [
      "\n",
      "k: Lets win this. Hit the enter to roll dice:  \n"
     ]
    },
    {
     "name": "stdout",
     "output_type": "stream",
     "text": [
      "\n",
      "Rolling dice...\n",
      "You got 3\n",
      "k moving....\n",
      "You got 3, pass the dice to next player. You are in the box: 12\n",
      "12\n"
     ]
    },
    {
     "name": "stdin",
     "output_type": "stream",
     "text": [
      "\n",
      "j: Two Hadamards decide your fate... Hit the enter to roll dice:  \n"
     ]
    },
    {
     "name": "stdout",
     "output_type": "stream",
     "text": [
      "\n",
      "Rolling dice...\n",
      "You got 2\n",
      "j moving....\n",
      "You got 2, pass the dice to next player. You are in the box: 10\n"
     ]
    },
    {
     "name": "stdin",
     "output_type": "stream",
     "text": [
      "\n",
      "k: Are you ready? Hit the enter to roll dice:  \n"
     ]
    },
    {
     "name": "stdout",
     "output_type": "stream",
     "text": [
      "\n",
      "Rolling dice...\n",
      "You got 1\n",
      "k moving....\n",
      "You got 1, pass the dice to next player. You are in the box: 13\n",
      "13\n"
     ]
    },
    {
     "name": "stdin",
     "output_type": "stream",
     "text": [
      "\n",
      "j: In a state of Quantum Superposition? Hit the enter to roll dice:  \n"
     ]
    },
    {
     "name": "stdout",
     "output_type": "stream",
     "text": [
      "\n",
      "Rolling dice...\n",
      "You got 1\n",
      "j moving....\n",
      "You got 1, pass the dice to next player. You are in the box: 11\n"
     ]
    },
    {
     "name": "stdin",
     "output_type": "stream",
     "text": [
      "\n",
      "k: Please proceed. Hit the enter to roll dice:  \n"
     ]
    },
    {
     "name": "stdout",
     "output_type": "stream",
     "text": [
      "\n",
      "Rolling dice...\n",
      "You got 3\n",
      "k moving....\n",
      "You got 3, pass the dice to next player. You are in the box: 16\n",
      "16\n"
     ]
    },
    {
     "name": "stdin",
     "output_type": "stream",
     "text": [
      "\n",
      "j: Please proceed. Hit the enter to roll dice:  \n"
     ]
    },
    {
     "name": "stdout",
     "output_type": "stream",
     "text": [
      "\n",
      "Rolling dice...\n",
      "You got 4\n",
      "j moving....\n",
      "You got 1 more chance! Roll the dice.\n",
      "You got 4! Roll the dice. You are in the box: 19\n"
     ]
    },
    {
     "name": "stdin",
     "output_type": "stream",
     "text": [
      "\n",
      "k: Lets win this. Hit the enter to roll dice:  \n"
     ]
    },
    {
     "name": "stdout",
     "output_type": "stream",
     "text": [
      "\n",
      "Rolling dice...\n",
      "You got 2\n",
      "k moving....\n",
      "You got 2, pass the dice to next player. You are in the box: 18\n",
      "18\n"
     ]
    },
    {
     "name": "stdin",
     "output_type": "stream",
     "text": [
      "\n",
      "j: Lets win this. Hit the enter to roll dice:  \n"
     ]
    },
    {
     "name": "stdout",
     "output_type": "stream",
     "text": [
      "\n",
      "Rolling dice...\n",
      "You got 2\n",
      "j moving....\n",
      "You got 2, pass the dice to next player. You are in the box: 21\n"
     ]
    },
    {
     "name": "stdin",
     "output_type": "stream",
     "text": [
      "\n",
      "k: Lets win this. Hit the enter to roll dice:  \n"
     ]
    },
    {
     "name": "stdout",
     "output_type": "stream",
     "text": [
      "\n",
      "Rolling dice...\n",
      "You got 2\n",
      "k moving....\n",
      "You got 2, pass the dice to next player. You are in the box: 20\n",
      "20\n"
     ]
    },
    {
     "name": "stdin",
     "output_type": "stream",
     "text": [
      "\n",
      "j: Go. Hit the enter to roll dice:  \n"
     ]
    },
    {
     "name": "stdout",
     "output_type": "stream",
     "text": [
      "\n",
      "Rolling dice...\n",
      "You got 2\n",
      "j moving....\n",
      "You got 2, pass the dice to next player. You are in the box: 23\n"
     ]
    },
    {
     "data": {
      "image/png": "[encoded data removed]",
      "text/plain": [
       "<Figure size 288x288 with 1 Axes>"
      ]
     },
     "metadata": {},
     "output_type": "display_data"
    },
    {
     "name": "stdin",
     "output_type": "stream",
     "text": [
      "Please choose a gate to reset the qubit to |0>: u\n",
      "Parameter value = 1.57\n",
      "Do you want to apply more gates? (Y/N) n\n"
     ]
    },
    {
     "name": "stdout",
     "output_type": "stream",
     "text": [
      "\n",
      "\n",
      "\n",
      "Thats it.\n",
      "\n",
      "j won the game.\n",
      "Congratulations j\n",
      "\n",
      "Thank you for playing the game.\n"
     ]
    },
    {
     "ename": "SystemExit",
     "evalue": "1",
     "output_type": "error",
     "traceback": [
      "An exception has occurred, use %tb to see the full traceback.\n",
      "\u001b[0;31mSystemExit\u001b[0m\u001b[0;31m:\u001b[0m 1\n"
     ]
    }
   ],
   "source": [
    "gate_list = ['I', 'X', 'Y', 'Z', 'H', 'S', 'T', 'Sdg', 'Tdg', 'RX', 'RY', 'RZ', 'U']\n",
    "\n",
    "def blc_spr(state, title=\"\", figsize=None, *, rho=None, filename=None):\n",
    "\n",
    "    # Data\n",
    "    bloch_data = _bloch_multivector_data(state)\n",
    "    num = len(bloch_data)\n",
    "    width, height = plt.figaspect(1 / num)\n",
    "    fig = plt.figure(figsize=(width, height))\n",
    "    for i in range(num):\n",
    "        pos = i\n",
    "        ax = fig.add_subplot(1, num, i + 1, projection=\"3d\")\n",
    "        #plot_bloch_vector(bloch_data[i], \"qubit \" + str(pos), ax=ax, figsize=figsize)\n",
    "        plot_bloch_vector(bloch_data[i], ax=ax, figsize=figsize)\n",
    "    fig.suptitle(title, fontsize=16, y=1.01)\n",
    "    #matplotlib_close_if_inline(fig)\n",
    "    return fig\n",
    "\n",
    "\n",
    "def rand_bloch(num_qbits = 1, seed = None):\n",
    "    gate_list = [XGate,IGate,XGate,HGate,YGate,ZGate,HGate,YGate,SGate,HGate,TGate,HGate]\n",
    "\n",
    "    if seed is None:\n",
    "        seed = np.random.randint(0, np.iinfo(np.int32).max)\n",
    "\n",
    "    rng = np.random.default_rng(seed)\n",
    "    operat = rng.choice(gate_list)\n",
    "    operat1 = rng.choice(gate_list)\n",
    "    op = operat()\n",
    "    op1 = operat1()\n",
    "    pi = np.pi\n",
    "\n",
    "    qc = QuantumCircuit(1)\n",
    "    qc.h([0])\n",
    "    qc.append(op, [0])\n",
    "    qc.append(op1, [0])\n",
    "    qc.save_statevector()\n",
    "    qobj = assemble(qc)  \n",
    "    state = sim.run(qobj).result().get_statevector()\n",
    "    return state\n",
    "\n",
    "def state_vec_circ(state):\n",
    "    inp = [state[0], state[1]]\n",
    "    svc = QuantumCircuit(1)  \n",
    "    initial_state = inp\n",
    "    svc.initialize(initial_state, 0) \n",
    "    return svc\n",
    "\n",
    "# state = rand_bloch()\n",
    "\n",
    "def final_bloch_operation(g, state):\n",
    "    q =QuantumRegister(1, 'q')\n",
    "    c = ClassicalRegister(1, 'c')\n",
    "    qc = QuantumCircuit(q,c)\n",
    "    #state = state\n",
    "    psi = Statevector(state)\n",
    "    init_gate = Initialize(psi)\n",
    "    init_gate.label = \"code\"\n",
    "    qc.append(init_gate, [0])\n",
    "    \n",
    "    for i in range(len(g)):\n",
    "        if type(g[i]) is tuple:\n",
    "            gate = g[i][0]\n",
    "            param = float(g[i][1])\n",
    "            if gate == 'rx':\n",
    "                qc.rx(param , [0]) \n",
    "            elif gate == 'ry':\n",
    "                qc.ry(param, [0])\n",
    "            elif gate == 'rz':\n",
    "                qc.rz(param, [0])\n",
    "            elif gate == 'u':\n",
    "                qc.ry(param, [0])\n",
    "            elif gate == 'p':\n",
    "                qc.p(param, [0])\n",
    "            else:\n",
    "                pass\n",
    "        else:\n",
    "            if g[i] == 'h':\n",
    "                qc.h([0])\n",
    "            elif g[i] == 'x':\n",
    "                qc.x([0])\n",
    "            elif g[i] == 'y':\n",
    "                qc.y([0])\n",
    "            elif g[i] == 'z':\n",
    "                qc.z([0])\n",
    "            elif g[i] == 'i':\n",
    "                qc.barrier()\n",
    "            elif g[i] == 't':\n",
    "                qc.t([0])\n",
    "            elif g[i] == 'tdg':\n",
    "                qc.tdg([0])\n",
    "            elif g[i] == 's':\n",
    "                qc.s([0])\n",
    "            elif g[i] == 'sdg':\n",
    "                qc.sdg([0])\n",
    "            else:\n",
    "                pass\n",
    "    qc.measure([0],[0])\n",
    "    # sim = Aer.get_backend('aer_simulator')\n",
    "    qc.save_statevector()\n",
    "    res = sim.run(qc, shots = 1000).result().get_counts()\n",
    "    return res\n",
    "\n",
    "\n",
    "def check_win(player_name, position):\n",
    "    time.sleep(SLEEP_BETWEEN_ACTIONS)\n",
    "    if MAX_VAL == position:\n",
    "        state = rand_bloch()\n",
    "        blc_spr(state)\n",
    "        plt.pause(1)\n",
    "        gate = last_puzzle()\n",
    "        counts = final_bloch_operation(gate, state)\n",
    "        key_counts = [ key for key in counts if counts[key] >40]\n",
    "        if len(key_counts) ==1 and key_counts[0] == '0':\n",
    "            print(\"\\n\\n\\nThats it.\\n\\n\" + player_name + \" won the game.\")\n",
    "            print(\"Congratulations \" + player_name)\n",
    "            print(\"\\nThank you for playing the game.\")\n",
    "            sys.exit('1')\n",
    "\n",
    "def start():\n",
    "    welcome_msg()\n",
    "    time.sleep(SLEEP_BETWEEN_ACTIONS)\n",
    "    player1_name, player2_name = get_player_names()\n",
    "    time.sleep(SLEEP_BETWEEN_ACTIONS)\n",
    "\n",
    "    player1_current_position = 0\n",
    "    player2_current_position = 0\n",
    "\n",
    "    while True:\n",
    "        time.sleep(SLEEP_BETWEEN_ACTIONS)\n",
    "        input_1 = input(\"\\n\" + player1_name + \": \" + random.choice(player_turn_text) + \" Hit the enter to roll dice: \")\n",
    "        print(\"\\nRolling dice...\")\n",
    "        dice_value = get_dice_value()\n",
    "        print(\"You got\", dice_value)\n",
    "        time.sleep(SLEEP_BETWEEN_ACTIONS)\n",
    "        print(player1_name + \" moving....\")\n",
    "        player1_current_position = quantum_maze(player1_name, player1_current_position, dice_value)\n",
    "        \n",
    "        if player1_current_position == MAX_VAL:\n",
    "            check_win(player1_name, player1_current_position)\n",
    "        else:\n",
    "            pass \n",
    "        \n",
    "        time.sleep(1)\n",
    "        \n",
    "        input_2 = input(\"\\n\" + player2_name + \": \" + random.choice(player_turn_text) + \" Hit the enter to roll dice: \")\n",
    "        print(\"\\nRolling dice...\")\n",
    "        dice_value = get_dice_value()\n",
    "        print(\"You got\", dice_value)\n",
    "        time.sleep(SLEEP_BETWEEN_ACTIONS)\n",
    "        print(player2_name + \" moving....\")\n",
    "        player2_current_position = quantum_maze(player2_name, player2_current_position, dice_value)\n",
    "        print(player2_current_position)\n",
    "        if player2_current_position == MAX_VAL:\n",
    "            check_win(player2_name, player2_current_position)            \n",
    "        else:\n",
    "            pass\n",
    "            \n",
    "if __name__ == \"__main__\":\n",
    "    start()"
   ]
  }
 ],
 "metadata": {
  "colab": {
   "name": "iQuHACK Quantum-Maze .ipynb",
   "provenance": []
  },
  "kernelspec": {
   "display_name": "Qiskit v0.35.0 (ipykernel)",
   "language": "python",
   "name": "python3"
  },
  "language_info": {
   "codemirror_mode": {
    "name": "ipython",
    "version": 3
   },
   "file_extension": ".py",
   "mimetype": "text/x-python",
   "name": "python",
   "nbconvert_exporter": "python",
   "pygments_lexer": "ipython3",
   "version": "3.8.13"
  },
  "widgets": {
   "application/vnd.jupyter.widget-state+json": {
    "state": {},
    "version_major": 2,
    "version_minor": 0
   }
  }
 },
 "nbformat": 4,
 "nbformat_minor": 4
}
